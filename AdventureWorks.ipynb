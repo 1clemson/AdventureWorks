{
 "cells": [
  {
   "cell_type": "markdown",
   "id": "ef513ad0-d1f1-4296-9bfe-321a7664b7ac",
   "metadata": {},
   "source": [
    "# Importing pandas, sqlite"
   ]
  },
  {
   "cell_type": "code",
   "execution_count": 1,
   "id": "cc8d4820-c4f0-4c92-8a67-be5a42287b79",
   "metadata": {},
   "outputs": [],
   "source": [
    "import pandas as pd\n",
    "import sqlite3 as sql"
   ]
  },
  {
   "cell_type": "markdown",
   "id": "ecd075e1-96c6-4faf-9773-7bf65e1a0451",
   "metadata": {},
   "source": [
    "### Connecting to the database"
   ]
  },
  {
   "cell_type": "code",
   "execution_count": 2,
   "id": "c63e75f2-7c24-4689-bf0b-11c4c76aafa6",
   "metadata": {},
   "outputs": [],
   "source": [
    "database = 'week2.db'\n",
    "connection = sql.connect('week2.db')"
   ]
  },
  {
   "cell_type": "markdown",
   "id": "4d9317bf-c031-4ae0-a4c9-caeb80f9c0c3",
   "metadata": {},
   "source": [
    "### Query to put the tables in a dataframe seperately \n"
   ]
  },
  {
   "cell_type": "code",
   "execution_count": 80,
   "id": "886480ff-4a54-4a5b-ba0a-d1ae006bbac5",
   "metadata": {},
   "outputs": [],
   "source": [
    "# query adv_Returns table\n",
    "adv_Returns = pd.read_sql_query('select * from Adv_Returns',connection)\n",
    "# print(adv_Returns)"
   ]
  },
  {
   "cell_type": "code",
   "execution_count": 47,
   "id": "bc1c46e0-fcd3-4bbd-8ae1-e450334910fa",
   "metadata": {},
   "outputs": [],
   "source": [
    "dim_calendar = pd.read_sql_query('select * from DimCalendar', connection)\n",
    "# print(dim_calendar)"
   ]
  },
  {
   "cell_type": "code",
   "execution_count": 78,
   "id": "ccc798f2-650f-4c7f-8213-ae96d4ce9c66",
   "metadata": {},
   "outputs": [],
   "source": [
    "adv_customers = pd.read_sql_query('select * from Adventureworks_Customers', connection)\n",
    "# print(adv_customers)"
   ]
  },
  {
   "cell_type": "code",
   "execution_count": 7,
   "id": "404f3286-e1fe-47b5-8bf3-3384735d7259",
   "metadata": {},
   "outputs": [],
   "source": [
    "adv_pr_categories = pd.read_sql_query('select * from Adventureworks_Product_Categories', connection)\n",
    "# print(adv_pr_categories)"
   ]
  },
  {
   "cell_type": "code",
   "execution_count": 8,
   "id": "8ced4398-1d17-4540-be4c-698c79344185",
   "metadata": {},
   "outputs": [],
   "source": [
    "adv_pr_subcategories = pd.read_sql_query('select * from Adventureworks_Product_Subcategories', connection)\n",
    "# print(adv_pr_subcategories)"
   ]
  },
  {
   "cell_type": "code",
   "execution_count": 9,
   "id": "5041ee03-8b63-4f95-9986-fd6f12c457fc",
   "metadata": {},
   "outputs": [],
   "source": [
    "adv_products = pd.read_sql_query('select * from Adventureworks_Products', connection)\n",
    "# print(adv_products)"
   ]
  },
  {
   "cell_type": "code",
   "execution_count": 10,
   "id": "bb80709a-0efd-42b0-afad-0e74cc500fd4",
   "metadata": {},
   "outputs": [],
   "source": [
    "adv_territories = pd.read_sql_query ('select * from Adventureworks_Territories', connection)\n",
    "# print(adv_territories)"
   ]
  },
  {
   "cell_type": "code",
   "execution_count": 81,
   "id": "f171cd6a-10a4-43d0-89b2-5aaa9822e6c9",
   "metadata": {},
   "outputs": [],
   "source": [
    "fact_sales = pd.read_sql_query ('select * from Fact_Sales', connection)\n",
    "# print(fact_sales)"
   ]
  },
  {
   "cell_type": "markdown",
   "id": "49f2228f-524a-4668-a672-309d9b5c3f52",
   "metadata": {},
   "source": [
    "# Exploring Datasets, Data Preprocessing, Data Normalization and Data Validation Process"
   ]
  },
  {
   "cell_type": "markdown",
   "id": "7021ebee-f0c4-48d9-8ba6-a5766a538aee",
   "metadata": {},
   "source": [
    "# Exploring datasets"
   ]
  },
  {
   "cell_type": "code",
   "execution_count": 12,
   "id": "74b85b16-da49-4ca4-beb1-c0a20f2bd9ef",
   "metadata": {},
   "outputs": [
    {
     "data": {
      "text/html": [
       "<div>\n",
       "<style scoped>\n",
       "    .dataframe tbody tr th:only-of-type {\n",
       "        vertical-align: middle;\n",
       "    }\n",
       "\n",
       "    .dataframe tbody tr th {\n",
       "        vertical-align: top;\n",
       "    }\n",
       "\n",
       "    .dataframe thead th {\n",
       "        text-align: right;\n",
       "    }\n",
       "</style>\n",
       "<table border=\"1\" class=\"dataframe\">\n",
       "  <thead>\n",
       "    <tr style=\"text-align: right;\">\n",
       "      <th></th>\n",
       "      <th>ReturnIndex</th>\n",
       "      <th>TerritoryKey</th>\n",
       "      <th>ProductKey</th>\n",
       "      <th>ReturnQuantity</th>\n",
       "    </tr>\n",
       "  </thead>\n",
       "  <tbody>\n",
       "    <tr>\n",
       "      <th>count</th>\n",
       "      <td>1809.000000</td>\n",
       "      <td>1809.000000</td>\n",
       "      <td>1809.000000</td>\n",
       "      <td>1809.000000</td>\n",
       "    </tr>\n",
       "    <tr>\n",
       "      <th>mean</th>\n",
       "      <td>905.000000</td>\n",
       "      <td>6.259812</td>\n",
       "      <td>443.460475</td>\n",
       "      <td>1.010503</td>\n",
       "    </tr>\n",
       "    <tr>\n",
       "      <th>std</th>\n",
       "      <td>522.357636</td>\n",
       "      <td>2.948103</td>\n",
       "      <td>115.326651</td>\n",
       "      <td>0.101973</td>\n",
       "    </tr>\n",
       "    <tr>\n",
       "      <th>min</th>\n",
       "      <td>1.000000</td>\n",
       "      <td>1.000000</td>\n",
       "      <td>214.000000</td>\n",
       "      <td>1.000000</td>\n",
       "    </tr>\n",
       "    <tr>\n",
       "      <th>25%</th>\n",
       "      <td>453.000000</td>\n",
       "      <td>4.000000</td>\n",
       "      <td>369.000000</td>\n",
       "      <td>1.000000</td>\n",
       "    </tr>\n",
       "    <tr>\n",
       "      <th>50%</th>\n",
       "      <td>905.000000</td>\n",
       "      <td>7.000000</td>\n",
       "      <td>479.000000</td>\n",
       "      <td>1.000000</td>\n",
       "    </tr>\n",
       "    <tr>\n",
       "      <th>75%</th>\n",
       "      <td>1357.000000</td>\n",
       "      <td>9.000000</td>\n",
       "      <td>529.000000</td>\n",
       "      <td>1.000000</td>\n",
       "    </tr>\n",
       "    <tr>\n",
       "      <th>max</th>\n",
       "      <td>1809.000000</td>\n",
       "      <td>10.000000</td>\n",
       "      <td>606.000000</td>\n",
       "      <td>2.000000</td>\n",
       "    </tr>\n",
       "  </tbody>\n",
       "</table>\n",
       "</div>"
      ],
      "text/plain": [
       "       ReturnIndex  TerritoryKey   ProductKey  ReturnQuantity\n",
       "count  1809.000000   1809.000000  1809.000000     1809.000000\n",
       "mean    905.000000      6.259812   443.460475        1.010503\n",
       "std     522.357636      2.948103   115.326651        0.101973\n",
       "min       1.000000      1.000000   214.000000        1.000000\n",
       "25%     453.000000      4.000000   369.000000        1.000000\n",
       "50%     905.000000      7.000000   479.000000        1.000000\n",
       "75%    1357.000000      9.000000   529.000000        1.000000\n",
       "max    1809.000000     10.000000   606.000000        2.000000"
      ]
     },
     "execution_count": 12,
     "metadata": {},
     "output_type": "execute_result"
    }
   ],
   "source": [
    "adv_Returns.describe()"
   ]
  },
  {
   "cell_type": "code",
   "execution_count": 22,
   "id": "f5749524-0413-496b-a83b-88d03abce392",
   "metadata": {},
   "outputs": [
    {
     "data": {
      "text/html": [
       "<div>\n",
       "<style scoped>\n",
       "    .dataframe tbody tr th:only-of-type {\n",
       "        vertical-align: middle;\n",
       "    }\n",
       "\n",
       "    .dataframe tbody tr th {\n",
       "        vertical-align: top;\n",
       "    }\n",
       "\n",
       "    .dataframe thead th {\n",
       "        text-align: right;\n",
       "    }\n",
       "</style>\n",
       "<table border=\"1\" class=\"dataframe\">\n",
       "  <thead>\n",
       "    <tr style=\"text-align: right;\">\n",
       "      <th></th>\n",
       "      <th>OrderDate</th>\n",
       "      <th>Year</th>\n",
       "      <th>Month</th>\n",
       "    </tr>\n",
       "  </thead>\n",
       "  <tbody>\n",
       "    <tr>\n",
       "      <th>count</th>\n",
       "      <td>912</td>\n",
       "      <td>912</td>\n",
       "      <td>912</td>\n",
       "    </tr>\n",
       "    <tr>\n",
       "      <th>unique</th>\n",
       "      <td>912</td>\n",
       "      <td>3</td>\n",
       "      <td>12</td>\n",
       "    </tr>\n",
       "    <tr>\n",
       "      <th>top</th>\n",
       "      <td>1/1/2015</td>\n",
       "      <td>2016</td>\n",
       "      <td>1</td>\n",
       "    </tr>\n",
       "    <tr>\n",
       "      <th>freq</th>\n",
       "      <td>1</td>\n",
       "      <td>366</td>\n",
       "      <td>93</td>\n",
       "    </tr>\n",
       "  </tbody>\n",
       "</table>\n",
       "</div>"
      ],
      "text/plain": [
       "       OrderDate  Year Month\n",
       "count        912   912   912\n",
       "unique       912     3    12\n",
       "top     1/1/2015  2016     1\n",
       "freq           1   366    93"
      ]
     },
     "execution_count": 22,
     "metadata": {},
     "output_type": "execute_result"
    }
   ],
   "source": [
    "dim_calendar.describe()"
   ]
  },
  {
   "cell_type": "code",
   "execution_count": 23,
   "id": "e74f6422-2e04-4975-95cf-40bdfe82e1ff",
   "metadata": {},
   "outputs": [
    {
     "data": {
      "text/html": [
       "<div>\n",
       "<style scoped>\n",
       "    .dataframe tbody tr th:only-of-type {\n",
       "        vertical-align: middle;\n",
       "    }\n",
       "\n",
       "    .dataframe tbody tr th {\n",
       "        vertical-align: top;\n",
       "    }\n",
       "\n",
       "    .dataframe thead th {\n",
       "        text-align: right;\n",
       "    }\n",
       "</style>\n",
       "<table border=\"1\" class=\"dataframe\">\n",
       "  <thead>\n",
       "    <tr style=\"text-align: right;\">\n",
       "      <th></th>\n",
       "      <th>CustomerKey</th>\n",
       "      <th>TotalChildren</th>\n",
       "    </tr>\n",
       "  </thead>\n",
       "  <tbody>\n",
       "    <tr>\n",
       "      <th>count</th>\n",
       "      <td>18148.000000</td>\n",
       "      <td>18148.000000</td>\n",
       "    </tr>\n",
       "    <tr>\n",
       "      <th>mean</th>\n",
       "      <td>20247.470465</td>\n",
       "      <td>1.843619</td>\n",
       "    </tr>\n",
       "    <tr>\n",
       "      <th>std</th>\n",
       "      <td>5336.245656</td>\n",
       "      <td>1.613203</td>\n",
       "    </tr>\n",
       "    <tr>\n",
       "      <th>min</th>\n",
       "      <td>11000.000000</td>\n",
       "      <td>0.000000</td>\n",
       "    </tr>\n",
       "    <tr>\n",
       "      <th>25%</th>\n",
       "      <td>15626.750000</td>\n",
       "      <td>0.000000</td>\n",
       "    </tr>\n",
       "    <tr>\n",
       "      <th>50%</th>\n",
       "      <td>20252.500000</td>\n",
       "      <td>2.000000</td>\n",
       "    </tr>\n",
       "    <tr>\n",
       "      <th>75%</th>\n",
       "      <td>24868.250000</td>\n",
       "      <td>3.000000</td>\n",
       "    </tr>\n",
       "    <tr>\n",
       "      <th>max</th>\n",
       "      <td>29483.000000</td>\n",
       "      <td>5.000000</td>\n",
       "    </tr>\n",
       "  </tbody>\n",
       "</table>\n",
       "</div>"
      ],
      "text/plain": [
       "        CustomerKey  TotalChildren\n",
       "count  18148.000000   18148.000000\n",
       "mean   20247.470465       1.843619\n",
       "std     5336.245656       1.613203\n",
       "min    11000.000000       0.000000\n",
       "25%    15626.750000       0.000000\n",
       "50%    20252.500000       2.000000\n",
       "75%    24868.250000       3.000000\n",
       "max    29483.000000       5.000000"
      ]
     },
     "execution_count": 23,
     "metadata": {},
     "output_type": "execute_result"
    }
   ],
   "source": [
    "adv_customers.describe()"
   ]
  },
  {
   "cell_type": "code",
   "execution_count": 24,
   "id": "1a33ec32-df76-41b5-ae96-2ae39cac439f",
   "metadata": {},
   "outputs": [
    {
     "data": {
      "text/html": [
       "<div>\n",
       "<style scoped>\n",
       "    .dataframe tbody tr th:only-of-type {\n",
       "        vertical-align: middle;\n",
       "    }\n",
       "\n",
       "    .dataframe tbody tr th {\n",
       "        vertical-align: top;\n",
       "    }\n",
       "\n",
       "    .dataframe thead th {\n",
       "        text-align: right;\n",
       "    }\n",
       "</style>\n",
       "<table border=\"1\" class=\"dataframe\">\n",
       "  <thead>\n",
       "    <tr style=\"text-align: right;\">\n",
       "      <th></th>\n",
       "      <th>ProductCategoryKey</th>\n",
       "    </tr>\n",
       "  </thead>\n",
       "  <tbody>\n",
       "    <tr>\n",
       "      <th>count</th>\n",
       "      <td>4.000000</td>\n",
       "    </tr>\n",
       "    <tr>\n",
       "      <th>mean</th>\n",
       "      <td>2.500000</td>\n",
       "    </tr>\n",
       "    <tr>\n",
       "      <th>std</th>\n",
       "      <td>1.290994</td>\n",
       "    </tr>\n",
       "    <tr>\n",
       "      <th>min</th>\n",
       "      <td>1.000000</td>\n",
       "    </tr>\n",
       "    <tr>\n",
       "      <th>25%</th>\n",
       "      <td>1.750000</td>\n",
       "    </tr>\n",
       "    <tr>\n",
       "      <th>50%</th>\n",
       "      <td>2.500000</td>\n",
       "    </tr>\n",
       "    <tr>\n",
       "      <th>75%</th>\n",
       "      <td>3.250000</td>\n",
       "    </tr>\n",
       "    <tr>\n",
       "      <th>max</th>\n",
       "      <td>4.000000</td>\n",
       "    </tr>\n",
       "  </tbody>\n",
       "</table>\n",
       "</div>"
      ],
      "text/plain": [
       "       ProductCategoryKey\n",
       "count            4.000000\n",
       "mean             2.500000\n",
       "std              1.290994\n",
       "min              1.000000\n",
       "25%              1.750000\n",
       "50%              2.500000\n",
       "75%              3.250000\n",
       "max              4.000000"
      ]
     },
     "execution_count": 24,
     "metadata": {},
     "output_type": "execute_result"
    }
   ],
   "source": [
    "adv_pr_categories.describe()"
   ]
  },
  {
   "cell_type": "code",
   "execution_count": 25,
   "id": "52994930-8c02-40d9-820d-0dd1991e1f3b",
   "metadata": {},
   "outputs": [
    {
     "data": {
      "text/html": [
       "<div>\n",
       "<style scoped>\n",
       "    .dataframe tbody tr th:only-of-type {\n",
       "        vertical-align: middle;\n",
       "    }\n",
       "\n",
       "    .dataframe tbody tr th {\n",
       "        vertical-align: top;\n",
       "    }\n",
       "\n",
       "    .dataframe thead th {\n",
       "        text-align: right;\n",
       "    }\n",
       "</style>\n",
       "<table border=\"1\" class=\"dataframe\">\n",
       "  <thead>\n",
       "    <tr style=\"text-align: right;\">\n",
       "      <th></th>\n",
       "      <th>ProductSubcategoryKey</th>\n",
       "      <th>ProductCategoryKey</th>\n",
       "    </tr>\n",
       "  </thead>\n",
       "  <tbody>\n",
       "    <tr>\n",
       "      <th>count</th>\n",
       "      <td>37.000000</td>\n",
       "      <td>37.000000</td>\n",
       "    </tr>\n",
       "    <tr>\n",
       "      <th>mean</th>\n",
       "      <td>19.000000</td>\n",
       "      <td>2.783784</td>\n",
       "    </tr>\n",
       "    <tr>\n",
       "      <th>std</th>\n",
       "      <td>10.824355</td>\n",
       "      <td>1.003747</td>\n",
       "    </tr>\n",
       "    <tr>\n",
       "      <th>min</th>\n",
       "      <td>1.000000</td>\n",
       "      <td>1.000000</td>\n",
       "    </tr>\n",
       "    <tr>\n",
       "      <th>25%</th>\n",
       "      <td>10.000000</td>\n",
       "      <td>2.000000</td>\n",
       "    </tr>\n",
       "    <tr>\n",
       "      <th>50%</th>\n",
       "      <td>19.000000</td>\n",
       "      <td>3.000000</td>\n",
       "    </tr>\n",
       "    <tr>\n",
       "      <th>75%</th>\n",
       "      <td>28.000000</td>\n",
       "      <td>4.000000</td>\n",
       "    </tr>\n",
       "    <tr>\n",
       "      <th>max</th>\n",
       "      <td>37.000000</td>\n",
       "      <td>4.000000</td>\n",
       "    </tr>\n",
       "  </tbody>\n",
       "</table>\n",
       "</div>"
      ],
      "text/plain": [
       "       ProductSubcategoryKey  ProductCategoryKey\n",
       "count              37.000000           37.000000\n",
       "mean               19.000000            2.783784\n",
       "std                10.824355            1.003747\n",
       "min                 1.000000            1.000000\n",
       "25%                10.000000            2.000000\n",
       "50%                19.000000            3.000000\n",
       "75%                28.000000            4.000000\n",
       "max                37.000000            4.000000"
      ]
     },
     "execution_count": 25,
     "metadata": {},
     "output_type": "execute_result"
    }
   ],
   "source": [
    "adv_pr_subcategories.describe()"
   ]
  },
  {
   "cell_type": "code",
   "execution_count": 26,
   "id": "9ffe67cb-da56-4275-a358-ab5f7e632405",
   "metadata": {},
   "outputs": [
    {
     "data": {
      "text/html": [
       "<div>\n",
       "<style scoped>\n",
       "    .dataframe tbody tr th:only-of-type {\n",
       "        vertical-align: middle;\n",
       "    }\n",
       "\n",
       "    .dataframe tbody tr th {\n",
       "        vertical-align: top;\n",
       "    }\n",
       "\n",
       "    .dataframe thead th {\n",
       "        text-align: right;\n",
       "    }\n",
       "</style>\n",
       "<table border=\"1\" class=\"dataframe\">\n",
       "  <thead>\n",
       "    <tr style=\"text-align: right;\">\n",
       "      <th></th>\n",
       "      <th>ProductKey</th>\n",
       "      <th>ProductSubcategoryKey</th>\n",
       "      <th>ProductCost</th>\n",
       "      <th>ProductPrice</th>\n",
       "    </tr>\n",
       "  </thead>\n",
       "  <tbody>\n",
       "    <tr>\n",
       "      <th>count</th>\n",
       "      <td>293.000000</td>\n",
       "      <td>293.000000</td>\n",
       "      <td>293.000000</td>\n",
       "      <td>293.000000</td>\n",
       "    </tr>\n",
       "    <tr>\n",
       "      <th>mean</th>\n",
       "      <td>441.552901</td>\n",
       "      <td>12.283276</td>\n",
       "      <td>413.661009</td>\n",
       "      <td>714.437357</td>\n",
       "    </tr>\n",
       "    <tr>\n",
       "      <th>std</th>\n",
       "      <td>108.064327</td>\n",
       "      <td>9.892831</td>\n",
       "      <td>517.611849</td>\n",
       "      <td>872.157258</td>\n",
       "    </tr>\n",
       "    <tr>\n",
       "      <th>min</th>\n",
       "      <td>214.000000</td>\n",
       "      <td>1.000000</td>\n",
       "      <td>0.856500</td>\n",
       "      <td>2.290000</td>\n",
       "    </tr>\n",
       "    <tr>\n",
       "      <th>25%</th>\n",
       "      <td>354.000000</td>\n",
       "      <td>2.000000</td>\n",
       "      <td>31.724400</td>\n",
       "      <td>63.500000</td>\n",
       "    </tr>\n",
       "    <tr>\n",
       "      <th>50%</th>\n",
       "      <td>457.000000</td>\n",
       "      <td>12.000000</td>\n",
       "      <td>199.375700</td>\n",
       "      <td>333.420000</td>\n",
       "    </tr>\n",
       "    <tr>\n",
       "      <th>75%</th>\n",
       "      <td>533.000000</td>\n",
       "      <td>17.000000</td>\n",
       "      <td>601.743700</td>\n",
       "      <td>1003.910000</td>\n",
       "    </tr>\n",
       "    <tr>\n",
       "      <th>max</th>\n",
       "      <td>606.000000</td>\n",
       "      <td>37.000000</td>\n",
       "      <td>2171.294200</td>\n",
       "      <td>3578.270000</td>\n",
       "    </tr>\n",
       "  </tbody>\n",
       "</table>\n",
       "</div>"
      ],
      "text/plain": [
       "       ProductKey  ProductSubcategoryKey  ProductCost  ProductPrice\n",
       "count  293.000000             293.000000   293.000000    293.000000\n",
       "mean   441.552901              12.283276   413.661009    714.437357\n",
       "std    108.064327               9.892831   517.611849    872.157258\n",
       "min    214.000000               1.000000     0.856500      2.290000\n",
       "25%    354.000000               2.000000    31.724400     63.500000\n",
       "50%    457.000000              12.000000   199.375700    333.420000\n",
       "75%    533.000000              17.000000   601.743700   1003.910000\n",
       "max    606.000000              37.000000  2171.294200   3578.270000"
      ]
     },
     "execution_count": 26,
     "metadata": {},
     "output_type": "execute_result"
    }
   ],
   "source": [
    "adv_products.describe()"
   ]
  },
  {
   "cell_type": "code",
   "execution_count": 27,
   "id": "65ac185b-95b1-4198-97fa-56bd6ecf0d29",
   "metadata": {},
   "outputs": [
    {
     "data": {
      "text/html": [
       "<div>\n",
       "<style scoped>\n",
       "    .dataframe tbody tr th:only-of-type {\n",
       "        vertical-align: middle;\n",
       "    }\n",
       "\n",
       "    .dataframe tbody tr th {\n",
       "        vertical-align: top;\n",
       "    }\n",
       "\n",
       "    .dataframe thead th {\n",
       "        text-align: right;\n",
       "    }\n",
       "</style>\n",
       "<table border=\"1\" class=\"dataframe\">\n",
       "  <thead>\n",
       "    <tr style=\"text-align: right;\">\n",
       "      <th></th>\n",
       "      <th>SalesTerritoryKey</th>\n",
       "    </tr>\n",
       "  </thead>\n",
       "  <tbody>\n",
       "    <tr>\n",
       "      <th>count</th>\n",
       "      <td>10.00000</td>\n",
       "    </tr>\n",
       "    <tr>\n",
       "      <th>mean</th>\n",
       "      <td>5.50000</td>\n",
       "    </tr>\n",
       "    <tr>\n",
       "      <th>std</th>\n",
       "      <td>3.02765</td>\n",
       "    </tr>\n",
       "    <tr>\n",
       "      <th>min</th>\n",
       "      <td>1.00000</td>\n",
       "    </tr>\n",
       "    <tr>\n",
       "      <th>25%</th>\n",
       "      <td>3.25000</td>\n",
       "    </tr>\n",
       "    <tr>\n",
       "      <th>50%</th>\n",
       "      <td>5.50000</td>\n",
       "    </tr>\n",
       "    <tr>\n",
       "      <th>75%</th>\n",
       "      <td>7.75000</td>\n",
       "    </tr>\n",
       "    <tr>\n",
       "      <th>max</th>\n",
       "      <td>10.00000</td>\n",
       "    </tr>\n",
       "  </tbody>\n",
       "</table>\n",
       "</div>"
      ],
      "text/plain": [
       "       SalesTerritoryKey\n",
       "count           10.00000\n",
       "mean             5.50000\n",
       "std              3.02765\n",
       "min              1.00000\n",
       "25%              3.25000\n",
       "50%              5.50000\n",
       "75%              7.75000\n",
       "max             10.00000"
      ]
     },
     "execution_count": 27,
     "metadata": {},
     "output_type": "execute_result"
    }
   ],
   "source": [
    "adv_territories.describe()"
   ]
  },
  {
   "cell_type": "code",
   "execution_count": 28,
   "id": "eb5076f9-82ca-461f-9a99-16260c43de88",
   "metadata": {},
   "outputs": [
    {
     "data": {
      "text/html": [
       "<div>\n",
       "<style scoped>\n",
       "    .dataframe tbody tr th:only-of-type {\n",
       "        vertical-align: middle;\n",
       "    }\n",
       "\n",
       "    .dataframe tbody tr th {\n",
       "        vertical-align: top;\n",
       "    }\n",
       "\n",
       "    .dataframe thead th {\n",
       "        text-align: right;\n",
       "    }\n",
       "</style>\n",
       "<table border=\"1\" class=\"dataframe\">\n",
       "  <thead>\n",
       "    <tr style=\"text-align: right;\">\n",
       "      <th></th>\n",
       "      <th>ProductKey</th>\n",
       "      <th>CustomerKey</th>\n",
       "      <th>TerritoryKey</th>\n",
       "      <th>OrderLineItem</th>\n",
       "      <th>OrderQuantity</th>\n",
       "    </tr>\n",
       "  </thead>\n",
       "  <tbody>\n",
       "    <tr>\n",
       "      <th>count</th>\n",
       "      <td>56046.000000</td>\n",
       "      <td>56046.000000</td>\n",
       "      <td>56046.000000</td>\n",
       "      <td>56046.000000</td>\n",
       "      <td>56046.000000</td>\n",
       "    </tr>\n",
       "    <tr>\n",
       "      <th>mean</th>\n",
       "      <td>438.962103</td>\n",
       "      <td>18843.645559</td>\n",
       "      <td>6.254666</td>\n",
       "      <td>1.903151</td>\n",
       "      <td>1.501873</td>\n",
       "    </tr>\n",
       "    <tr>\n",
       "      <th>std</th>\n",
       "      <td>118.612352</td>\n",
       "      <td>5412.449843</td>\n",
       "      <td>2.958005</td>\n",
       "      <td>1.021006</td>\n",
       "      <td>0.612379</td>\n",
       "    </tr>\n",
       "    <tr>\n",
       "      <th>min</th>\n",
       "      <td>214.000000</td>\n",
       "      <td>11000.000000</td>\n",
       "      <td>1.000000</td>\n",
       "      <td>1.000000</td>\n",
       "      <td>1.000000</td>\n",
       "    </tr>\n",
       "    <tr>\n",
       "      <th>25%</th>\n",
       "      <td>360.000000</td>\n",
       "      <td>14016.000000</td>\n",
       "      <td>4.000000</td>\n",
       "      <td>1.000000</td>\n",
       "      <td>1.000000</td>\n",
       "    </tr>\n",
       "    <tr>\n",
       "      <th>50%</th>\n",
       "      <td>479.000000</td>\n",
       "      <td>18157.000000</td>\n",
       "      <td>7.000000</td>\n",
       "      <td>2.000000</td>\n",
       "      <td>1.000000</td>\n",
       "    </tr>\n",
       "    <tr>\n",
       "      <th>75%</th>\n",
       "      <td>529.000000</td>\n",
       "      <td>23425.750000</td>\n",
       "      <td>9.000000</td>\n",
       "      <td>2.000000</td>\n",
       "      <td>2.000000</td>\n",
       "    </tr>\n",
       "    <tr>\n",
       "      <th>max</th>\n",
       "      <td>606.000000</td>\n",
       "      <td>29483.000000</td>\n",
       "      <td>10.000000</td>\n",
       "      <td>8.000000</td>\n",
       "      <td>3.000000</td>\n",
       "    </tr>\n",
       "  </tbody>\n",
       "</table>\n",
       "</div>"
      ],
      "text/plain": [
       "         ProductKey   CustomerKey  TerritoryKey  OrderLineItem  OrderQuantity\n",
       "count  56046.000000  56046.000000  56046.000000   56046.000000   56046.000000\n",
       "mean     438.962103  18843.645559      6.254666       1.903151       1.501873\n",
       "std      118.612352   5412.449843      2.958005       1.021006       0.612379\n",
       "min      214.000000  11000.000000      1.000000       1.000000       1.000000\n",
       "25%      360.000000  14016.000000      4.000000       1.000000       1.000000\n",
       "50%      479.000000  18157.000000      7.000000       2.000000       1.000000\n",
       "75%      529.000000  23425.750000      9.000000       2.000000       2.000000\n",
       "max      606.000000  29483.000000     10.000000       8.000000       3.000000"
      ]
     },
     "execution_count": 28,
     "metadata": {},
     "output_type": "execute_result"
    }
   ],
   "source": [
    "fact_sales.describe()"
   ]
  },
  {
   "cell_type": "markdown",
   "id": "9df4cdc6-a3d7-4600-b650-bf5f33c71bf5",
   "metadata": {},
   "source": [
    "# Dataset information"
   ]
  },
  {
   "cell_type": "code",
   "execution_count": 15,
   "id": "aaa3b593-8837-405d-ab3b-161c24f331cb",
   "metadata": {},
   "outputs": [
    {
     "name": "stdout",
     "output_type": "stream",
     "text": [
      "<class 'pandas.core.frame.DataFrame'>\n",
      "RangeIndex: 1809 entries, 0 to 1808\n",
      "Data columns (total 5 columns):\n",
      " #   Column          Non-Null Count  Dtype \n",
      "---  ------          --------------  ----- \n",
      " 0   ReturnIndex     1809 non-null   int64 \n",
      " 1   ReturnDate      1809 non-null   object\n",
      " 2   TerritoryKey    1809 non-null   int64 \n",
      " 3   ProductKey      1809 non-null   int64 \n",
      " 4   ReturnQuantity  1809 non-null   int64 \n",
      "dtypes: int64(4), object(1)\n",
      "memory usage: 70.8+ KB\n",
      "None\n"
     ]
    }
   ],
   "source": [
    "a = adv_Returns.info()\n",
    "print(a)"
   ]
  },
  {
   "cell_type": "code",
   "execution_count": 16,
   "id": "ed18e819-43bc-4432-ae96-5fcc468218bc",
   "metadata": {},
   "outputs": [
    {
     "name": "stdout",
     "output_type": "stream",
     "text": [
      "<class 'pandas.core.frame.DataFrame'>\n",
      "RangeIndex: 912 entries, 0 to 911\n",
      "Data columns (total 3 columns):\n",
      " #   Column     Non-Null Count  Dtype \n",
      "---  ------     --------------  ----- \n",
      " 0   OrderDate  912 non-null    object\n",
      " 1   Year       912 non-null    object\n",
      " 2   Month      912 non-null    object\n",
      "dtypes: object(3)\n",
      "memory usage: 21.5+ KB\n",
      "None\n"
     ]
    }
   ],
   "source": [
    "b = dim_calendar.info()\n",
    "print(b)"
   ]
  },
  {
   "cell_type": "code",
   "execution_count": 17,
   "id": "3654c41a-2aae-448e-b6f9-5149efdf17bc",
   "metadata": {},
   "outputs": [
    {
     "name": "stdout",
     "output_type": "stream",
     "text": [
      "<class 'pandas.core.frame.DataFrame'>\n",
      "RangeIndex: 18148 entries, 0 to 18147\n",
      "Data columns (total 13 columns):\n",
      " #   Column          Non-Null Count  Dtype \n",
      "---  ------          --------------  ----- \n",
      " 0   CustomerKey     18148 non-null  int64 \n",
      " 1   Prefix          18148 non-null  object\n",
      " 2   FirstName       18148 non-null  object\n",
      " 3   LastName        18148 non-null  object\n",
      " 4   BirthDate       18148 non-null  object\n",
      " 5   MaritalStatus   18148 non-null  object\n",
      " 6   Gender          18148 non-null  object\n",
      " 7   EmailAddress    18148 non-null  object\n",
      " 8   AnnualIncome    18148 non-null  object\n",
      " 9   TotalChildren   18148 non-null  int64 \n",
      " 10  EducationLevel  18148 non-null  object\n",
      " 11  Occupation      18148 non-null  object\n",
      " 12  HomeOwner       18148 non-null  object\n",
      "dtypes: int64(2), object(11)\n",
      "memory usage: 1.8+ MB\n",
      "None\n"
     ]
    }
   ],
   "source": [
    "c = adv_customers.info()\n",
    "print(c)"
   ]
  },
  {
   "cell_type": "code",
   "execution_count": 18,
   "id": "aabef110-da9b-40ed-ae41-05e5a61d43f7",
   "metadata": {},
   "outputs": [
    {
     "name": "stdout",
     "output_type": "stream",
     "text": [
      "<class 'pandas.core.frame.DataFrame'>\n",
      "RangeIndex: 4 entries, 0 to 3\n",
      "Data columns (total 2 columns):\n",
      " #   Column              Non-Null Count  Dtype \n",
      "---  ------              --------------  ----- \n",
      " 0   ProductCategoryKey  4 non-null      int64 \n",
      " 1   CategoryName        4 non-null      object\n",
      "dtypes: int64(1), object(1)\n",
      "memory usage: 196.0+ bytes\n",
      "None\n"
     ]
    }
   ],
   "source": [
    "d = adv_pr_categories.info()\n",
    "print(d)"
   ]
  },
  {
   "cell_type": "code",
   "execution_count": 19,
   "id": "1b85251b-4e68-412e-8e87-d9e13818ef31",
   "metadata": {},
   "outputs": [
    {
     "name": "stdout",
     "output_type": "stream",
     "text": [
      "<class 'pandas.core.frame.DataFrame'>\n",
      "RangeIndex: 37 entries, 0 to 36\n",
      "Data columns (total 3 columns):\n",
      " #   Column                 Non-Null Count  Dtype \n",
      "---  ------                 --------------  ----- \n",
      " 0   ProductSubcategoryKey  37 non-null     int64 \n",
      " 1   SubcategoryName        37 non-null     object\n",
      " 2   ProductCategoryKey     37 non-null     int64 \n",
      "dtypes: int64(2), object(1)\n",
      "memory usage: 1020.0+ bytes\n",
      "None\n"
     ]
    }
   ],
   "source": [
    "e = adv_pr_subcategories.info()\n",
    "print(e)"
   ]
  },
  {
   "cell_type": "code",
   "execution_count": 20,
   "id": "5ecf868c-e424-42bd-b5eb-68413ec2270f",
   "metadata": {},
   "outputs": [
    {
     "name": "stdout",
     "output_type": "stream",
     "text": [
      "<class 'pandas.core.frame.DataFrame'>\n",
      "RangeIndex: 293 entries, 0 to 292\n",
      "Data columns (total 11 columns):\n",
      " #   Column                 Non-Null Count  Dtype  \n",
      "---  ------                 --------------  -----  \n",
      " 0   ProductKey             293 non-null    int64  \n",
      " 1   ProductSubcategoryKey  293 non-null    int64  \n",
      " 2   ProductSKU             293 non-null    object \n",
      " 3   ProductName            293 non-null    object \n",
      " 4   ModelName              293 non-null    object \n",
      " 5   ProductDescription     293 non-null    object \n",
      " 6   ProductColor           293 non-null    object \n",
      " 7   ProductSize            293 non-null    object \n",
      " 8   ProductStyle           293 non-null    object \n",
      " 9   ProductCost            293 non-null    float64\n",
      " 10  ProductPrice           293 non-null    float64\n",
      "dtypes: float64(2), int64(2), object(7)\n",
      "memory usage: 25.3+ KB\n",
      "None\n"
     ]
    }
   ],
   "source": [
    "f = adv_products.info()\n",
    "print(f)"
   ]
  },
  {
   "cell_type": "code",
   "execution_count": 21,
   "id": "abe23e09-36bb-47f8-903a-7d3a54b06d0d",
   "metadata": {},
   "outputs": [
    {
     "name": "stdout",
     "output_type": "stream",
     "text": [
      "<class 'pandas.core.frame.DataFrame'>\n",
      "RangeIndex: 10 entries, 0 to 9\n",
      "Data columns (total 4 columns):\n",
      " #   Column             Non-Null Count  Dtype \n",
      "---  ------             --------------  ----- \n",
      " 0   SalesTerritoryKey  10 non-null     int64 \n",
      " 1   Region             10 non-null     object\n",
      " 2   Country            10 non-null     object\n",
      " 3   Continent          10 non-null     object\n",
      "dtypes: int64(1), object(3)\n",
      "memory usage: 452.0+ bytes\n",
      "None\n"
     ]
    }
   ],
   "source": [
    "g = adv_territories.info()\n",
    "print(g)"
   ]
  },
  {
   "cell_type": "code",
   "execution_count": 31,
   "id": "5d7d9bc3-a947-48f4-9ead-7b1eb6d08f8d",
   "metadata": {},
   "outputs": [
    {
     "name": "stdout",
     "output_type": "stream",
     "text": [
      "<class 'pandas.core.frame.DataFrame'>\n",
      "RangeIndex: 56046 entries, 0 to 56045\n",
      "Data columns (total 8 columns):\n",
      " #   Column         Non-Null Count  Dtype \n",
      "---  ------         --------------  ----- \n",
      " 0   OrderDate      56046 non-null  object\n",
      " 1   StockDate      56046 non-null  object\n",
      " 2   OrderNumber    56046 non-null  object\n",
      " 3   ProductKey     56046 non-null  int64 \n",
      " 4   CustomerKey    56046 non-null  int64 \n",
      " 5   TerritoryKey   56046 non-null  int64 \n",
      " 6   OrderLineItem  56046 non-null  int64 \n",
      " 7   OrderQuantity  56046 non-null  int64 \n",
      "dtypes: int64(5), object(3)\n",
      "memory usage: 3.4+ MB\n",
      "None\n"
     ]
    }
   ],
   "source": [
    "h = fact_sales.info()\n",
    "print(h)"
   ]
  },
  {
   "cell_type": "markdown",
   "id": "8cb2e5c9-ca08-431e-b73d-1f465a3b9757",
   "metadata": {},
   "source": [
    "## Correcting Date datatypes"
   ]
  },
  {
   "cell_type": "code",
   "execution_count": 32,
   "id": "2101b59d-778a-4219-a7b0-b8ac0900e20f",
   "metadata": {},
   "outputs": [],
   "source": [
    "fact_sales['OrderDate'] = pd.to_datetime(fact_sales['OrderDate'])"
   ]
  },
  {
   "cell_type": "code",
   "execution_count": 33,
   "id": "2f33bdfa-1ac8-4aec-a2f9-5c376ed72a0a",
   "metadata": {},
   "outputs": [
    {
     "name": "stdout",
     "output_type": "stream",
     "text": [
      "<class 'pandas.core.frame.DataFrame'>\n",
      "RangeIndex: 56046 entries, 0 to 56045\n",
      "Data columns (total 8 columns):\n",
      " #   Column         Non-Null Count  Dtype         \n",
      "---  ------         --------------  -----         \n",
      " 0   OrderDate      56046 non-null  datetime64[ns]\n",
      " 1   StockDate      56046 non-null  object        \n",
      " 2   OrderNumber    56046 non-null  object        \n",
      " 3   ProductKey     56046 non-null  int64         \n",
      " 4   CustomerKey    56046 non-null  int64         \n",
      " 5   TerritoryKey   56046 non-null  int64         \n",
      " 6   OrderLineItem  56046 non-null  int64         \n",
      " 7   OrderQuantity  56046 non-null  int64         \n",
      "dtypes: datetime64[ns](1), int64(5), object(2)\n",
      "memory usage: 3.4+ MB\n",
      "None\n"
     ]
    }
   ],
   "source": [
    "# re-check fact sales information\n",
    "recheck = fact_sales.info()\n",
    "print(recheck)"
   ]
  },
  {
   "cell_type": "code",
   "execution_count": 40,
   "id": "8a414332-9ab4-4cb9-923b-e4444fc33bc8",
   "metadata": {},
   "outputs": [
    {
     "name": "stdout",
     "output_type": "stream",
     "text": [
      "       OrderDate  StockDate OrderNumber  ProductKey  CustomerKey  \\\n",
      "0     2015-01-01 2001-09-21     SO45080         332        14657   \n",
      "1     2015-01-01 2001-12-05     SO45079         312        29255   \n",
      "2     2015-01-01 2001-10-29     SO45082         350        11455   \n",
      "3     2015-01-01 2001-11-16     SO45081         338        26782   \n",
      "4     2015-01-02 2001-12-15     SO45083         312        14947   \n",
      "...          ...        ...         ...         ...          ...   \n",
      "56041 2017-06-30 2004-03-22     SO74143         477        28517   \n",
      "56042 2017-06-30 2004-03-15     SO74143         479        28517   \n",
      "56043 2017-06-30 2004-04-08     SO74143         606        28517   \n",
      "56044 2017-06-30 2004-05-15     SO74124         480        21676   \n",
      "56045 2017-06-30 2004-05-04     SO74124         538        21676   \n",
      "\n",
      "       TerritoryKey  OrderLineItem  OrderQuantity  \n",
      "0                 1              1              1  \n",
      "1                 4              1              1  \n",
      "2                 9              1              1  \n",
      "3                 6              1              1  \n",
      "4                10              1              1  \n",
      "...             ...            ...            ...  \n",
      "56041            10              3              2  \n",
      "56042            10              2              1  \n",
      "56043            10              1              1  \n",
      "56044             7              2              2  \n",
      "56045             7              1              2  \n",
      "\n",
      "[56046 rows x 8 columns]\n"
     ]
    }
   ],
   "source": [
    "print(fact_sales)"
   ]
  },
  {
   "cell_type": "code",
   "execution_count": 39,
   "id": "c9c7a632-41d5-4525-b051-c88df1b24205",
   "metadata": {},
   "outputs": [
    {
     "name": "stdout",
     "output_type": "stream",
     "text": [
      "<class 'pandas.core.series.Series'>\n",
      "RangeIndex: 56046 entries, 0 to 56045\n",
      "Series name: StockDate\n",
      "Non-Null Count  Dtype         \n",
      "--------------  -----         \n",
      "56046 non-null  datetime64[ns]\n",
      "dtypes: datetime64[ns](1)\n",
      "memory usage: 438.0 KB\n"
     ]
    }
   ],
   "source": [
    "# change stock date datatype to datatime and re-check\n",
    "fact_sales['StockDate'] = pd.to_datetime(fact_sales['StockDate'])\n",
    "fact_sales['StockDate'].info()"
   ]
  },
  {
   "cell_type": "code",
   "execution_count": 52,
   "id": "dd9a4c5e-50a5-46d6-9706-4465cfc2f088",
   "metadata": {},
   "outputs": [
    {
     "name": "stdout",
     "output_type": "stream",
     "text": [
      "<class 'pandas.core.series.Series'>\n",
      "RangeIndex: 912 entries, 0 to 911\n",
      "Series name: OrderDate\n",
      "Non-Null Count  Dtype         \n",
      "--------------  -----         \n",
      "912 non-null    datetime64[ns]\n",
      "dtypes: datetime64[ns](1)\n",
      "memory usage: 7.3 KB\n"
     ]
    }
   ],
   "source": [
    "dim_calendar['OrderDate'] = pd.to_datetime(dim_calendar['OrderDate'])\n",
    "dim_calendar['OrderDate'].info()"
   ]
  },
  {
   "cell_type": "markdown",
   "id": "ba5207f5-eb41-4810-855e-889d43da39d8",
   "metadata": {},
   "source": [
    "## Changing Annualincome to numeric data types"
   ]
  },
  {
   "cell_type": "code",
   "execution_count": 83,
   "id": "83171ff8-f90f-4837-b7e0-406c38be0867",
   "metadata": {},
   "outputs": [],
   "source": [
    "# to change annual income datatype on customers table\n",
    "adv_customers['AnnualIncome'] = adv_customers['AnnualIncome'].str.replace(',' , '').astype(int)"
   ]
  },
  {
   "cell_type": "code",
   "execution_count": null,
   "id": "8c39355c-f80d-494b-8782-aa583b1f157c",
   "metadata": {},
   "outputs": [],
   "source": [
    "adv_customers['TotalChildren'] = adv_customers['TotalChildren'].astype(int)"
   ]
  },
  {
   "cell_type": "code",
   "execution_count": 84,
   "id": "3311be0f-99d0-4b7f-a328-beb61f4d9465",
   "metadata": {},
   "outputs": [
    {
     "name": "stdout",
     "output_type": "stream",
     "text": [
      "<class 'pandas.core.frame.DataFrame'>\n",
      "RangeIndex: 18148 entries, 0 to 18147\n",
      "Data columns (total 13 columns):\n",
      " #   Column          Non-Null Count  Dtype \n",
      "---  ------          --------------  ----- \n",
      " 0   CustomerKey     18148 non-null  int64 \n",
      " 1   Prefix          18148 non-null  object\n",
      " 2   FirstName       18148 non-null  object\n",
      " 3   LastName        18148 non-null  object\n",
      " 4   BirthDate       18148 non-null  object\n",
      " 5   MaritalStatus   18148 non-null  object\n",
      " 6   Gender          18148 non-null  object\n",
      " 7   EmailAddress    18148 non-null  object\n",
      " 8   AnnualIncome    18148 non-null  int32 \n",
      " 9   TotalChildren   18148 non-null  int64 \n",
      " 10  EducationLevel  18148 non-null  object\n",
      " 11  Occupation      18148 non-null  object\n",
      " 12  HomeOwner       18148 non-null  object\n",
      "dtypes: int32(1), int64(2), object(10)\n",
      "memory usage: 1.7+ MB\n"
     ]
    }
   ],
   "source": [
    "adv_customers.info()"
   ]
  },
  {
   "cell_type": "code",
   "execution_count": null,
   "id": "8c15f0f3-8fb2-4607-9445-1dbf81d06b09",
   "metadata": {},
   "outputs": [],
   "source": []
  },
  {
   "cell_type": "markdown",
   "id": "470f74a2-fba5-4d58-837a-0bf916821841",
   "metadata": {},
   "source": [
    "# checking relationships between fact_sales and product table"
   ]
  },
  {
   "cell_type": "code",
   "execution_count": 56,
   "id": "46af02d7-ac4e-4041-a2d0-c31a2016f071",
   "metadata": {},
   "outputs": [
    {
     "name": "stdout",
     "output_type": "stream",
     "text": [
      "There is relationship between the two table\n"
     ]
    }
   ],
   "source": [
    "invalid = fact_sales[~fact_sales['ProductKey'].isin(adv_products['ProductKey'])]\n",
    "if not invalid.empty:\n",
    "    print('invalid productkey reference found in fact_sales')\n",
    "else:\n",
    "    print('There is relationship between the two table')"
   ]
  },
  {
   "cell_type": "markdown",
   "id": "09941417-78e8-43d9-9485-f92fa5ed5b63",
   "metadata": {},
   "source": [
    "# checking relationships between fact_sales and product table"
   ]
  },
  {
   "cell_type": "code",
   "execution_count": 58,
   "id": "55095389-5943-48ef-aab0-361249b0a7af",
   "metadata": {},
   "outputs": [
    {
     "name": "stdout",
     "output_type": "stream",
     "text": [
      "There is relationship between the two table\n"
     ]
    }
   ],
   "source": [
    "cust = fact_sales[~fact_sales['CustomerKey'].isin(adv_customers['CustomerKey'])]\n",
    "if not cust.empty:\n",
    "    print('No relationship between the two table')\n",
    "else:\n",
    "    print('There is relationship between the two table')"
   ]
  },
  {
   "cell_type": "markdown",
   "id": "74080b52-37db-4f53-9904-2511321a1349",
   "metadata": {},
   "source": [
    "# checking relationship between fact sales and territories table"
   ]
  },
  {
   "cell_type": "code",
   "execution_count": 59,
   "id": "70d8bbff-a482-4c52-807d-5a31fe036b55",
   "metadata": {},
   "outputs": [
    {
     "name": "stdout",
     "output_type": "stream",
     "text": [
      "There is relationship between the two table\n"
     ]
    }
   ],
   "source": [
    "terr = fact_sales[~fact_sales['TerritoryKey'].isin(adv_territories['SalesTerritoryKey'])]\n",
    "if not terr.empty:\n",
    "    print('No relationship between the two table')\n",
    "else:\n",
    "    print('There is relationship between the two table')"
   ]
  },
  {
   "cell_type": "markdown",
   "id": "aa3246bf-9fc6-4d76-ab80-6a43695e715c",
   "metadata": {},
   "source": [
    "## Checking for outliers in customer table"
   ]
  },
  {
   "cell_type": "markdown",
   "id": "1b0f4fc9-a761-49ff-af87-bb04efffe379",
   "metadata": {},
   "source": [
    "# Visualizing outliers"
   ]
  },
  {
   "cell_type": "code",
   "execution_count": 85,
   "id": "dd3f0209-3cd9-429c-a91c-5eb3c142fc1d",
   "metadata": {},
   "outputs": [
    {
     "data": {
      "image/png": "[encoded data removed]",
      "text/plain": [
       "<Figure size 800x600 with 1 Axes>"
      ]
     },
     "metadata": {},
     "output_type": "display_data"
    }
   ],
   "source": [
    "import matplotlib.pyplot as plt\n",
    "\n",
    "# creating box plot to show the outliers\n",
    "plt.figure(figsize=(8,6))\n",
    "plt.boxplot(adv_customers['AnnualIncome'].dropna())\n",
    "# dropna() means to drop empty values in the column \n",
    "plt.title('Box plot to visualize outliers')\n",
    "plt.ylabel('Annual Income')\n",
    "plt.show()"
   ]
  },
  {
   "cell_type": "code",
   "execution_count": null,
   "id": "6cb61f56-f3be-4a1e-90fb-b320b90de7cf",
   "metadata": {},
   "outputs": [],
   "source": []
  },
  {
   "cell_type": "code",
   "execution_count": null,
   "id": "b6c066af-17c3-4fd6-9baf-83dd37f28459",
   "metadata": {},
   "outputs": [],
   "source": []
  },
  {
   "cell_type": "code",
   "execution_count": null,
   "id": "61b19e25-bd64-467a-904d-cb8ff835dc72",
   "metadata": {},
   "outputs": [],
   "source": []
  }
 ],
 "metadata": {
  "kernelspec": {
   "display_name": "Python 3 (ipykernel)",
   "language": "python",
   "name": "python3"
  },
  "language_info": {
   "codemirror_mode": {
    "name": "ipython",
    "version": 3
   },
   "file_extension": ".py",
   "mimetype": "text/x-python",
   "name": "python",
   "nbconvert_exporter": "python",
   "pygments_lexer": "ipython3",
   "version": "3.11.7"
  }
 },
 "nbformat": 4,
 "nbformat_minor": 5
}
